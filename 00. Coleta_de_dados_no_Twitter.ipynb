{
 "cells": [
  {
   "cell_type": "markdown",
   "id": "00cbd0a0",
   "metadata": {},
   "source": [
    "# Importando dados do twitter \n",
    "\n",
    "-  Usando a biblioteca tweepy: <br>\n",
    "    https://docs.tweepy.org/en/stable/\n"
   ]
  },
  {
   "cell_type": "code",
   "execution_count": 1,
   "id": "1c78cd84",
   "metadata": {},
   "outputs": [],
   "source": [
    "import tweepy as tw #importa a biblioteca com o apelido de tw"
   ]
  },
  {
   "cell_type": "code",
   "execution_count": 7,
   "id": "69adfcae",
   "metadata": {},
   "outputs": [],
   "source": [
    "# Credencias do usuario API\n",
    "\n",
    "bearer_token = bearer_token_user \n",
    "consumer_key =  consumer_key_user\n",
    "consumer_secret = consumer_secret_user\n",
    "access_token = acess_token_user\n",
    "access_token_secret = acess_token_secret"
   ]
  },
  {
   "cell_type": "code",
   "execution_count": 8,
   "id": "e9d4a9a8",
   "metadata": {},
   "outputs": [],
   "source": [
    "#confirmando acesso na API \n",
    "cliente = tw.Client(bearer_token=bearer_token, consumer_key=consumer_key, consumer_secret=consumer_secret, access_token=access_token, access_token_secret=access_token_secret) "
   ]
  },
  {
   "cell_type": "code",
   "execution_count": 9,
   "id": "05da07a0",
   "metadata": {},
   "outputs": [],
   "source": [
    "start = \"2022-02-28T11:00:01Z\" #data de inicio\n",
    "end = \"2022-03-06T11:00:01Z\" #data de termino"
   ]
  },
  {
   "cell_type": "code",
   "execution_count": 10,
   "id": "f14236f1",
   "metadata": {},
   "outputs": [],
   "source": [
    "# Armazenando ID dar marcas no twiiter\n",
    "\n",
    "netflixBrasil = 231579149\n",
    "netflix = 16573941\n",
    "magazine_luiza = 43943121\n",
    "ponto_frio = 16788804\n",
    "globo = 67411820\n",
    "almap = 22050442\n",
    "sbt = 20600456"
   ]
  },
  {
   "cell_type": "code",
   "execution_count": 11,
   "id": "043e4a52",
   "metadata": {},
   "outputs": [],
   "source": [
    "# coleta de dados \n",
    "resposta = cliente.get_users_tweets ( id = 'usar o ID armazenado', max_results = 100, start_time = start, end_time = end ) "
   ]
  },
  {
   "cell_type": "code",
   "execution_count": null,
   "id": "e8e93492",
   "metadata": {},
   "outputs": [],
   "source": [
    "post_marca = resposta.data # armazena os dados em uma variavel\n",
    "\n",
    "frequencia_palavras = {} #dicionario que ira receber os valores\n",
    "\n",
    "\n",
    "\n",
    "for post in post_marca: #percorre os posts\n",
    "    post_cru = post.text.replace(\"\\n\", \" \") #coleta somente o texto do post,  trocando o espaçamento do \"enter\" dos posts por uma \"barra de espaço\" para que fiquem na mesma linha\n",
    "    print(f'@pontofrio| {post_cru}') # mostra somente os textos do posts \n",
    "\n",
    "\n",
    "for post in post_marca: # inicio de tratamento dos dados\n",
    "    frase = post.text.casefold().split() #cria uma lista de palavras com letras minusculas sem espaçamento para poderem ser contabilizadas\n",
    "    \n",
    "   \n",
    "    for palavras in frase: #for dentro de for, percore todas as palavras dentro de das listas\n",
    "        \n",
    "        if palavras not in frequencia_palavras: # verifica se a palavra dentro da frase ja se encontra no dicionario\n",
    "            frequencia_palavras[palavras] = 0 # se a palavra não estiver no dicionario ela irar adicionala com o valor zero ao percorrer as palvras pois se a  a palvra não estiver com valor no dicionario ira ocorrer um erro, depois de adicionada o contador na proxima linha ira adionar uma valor\n",
    "        \n",
    "        frequencia_palavras[palavras] += 1 # após adicionar a palavra com o valor de 0 no dicionario essa linha servira como um contatdor, somar valor 1 para cada vez que ela apareceu\n",
    "\n",
    "\n",
    "\n",
    "print(len(post_marca)) #retorna a quantidade de post coletados\n"
   ]
  },
  {
   "cell_type": "code",
   "execution_count": null,
   "id": "127d8ea1",
   "metadata": {},
   "outputs": [],
   "source": [
    "from operator import itemgetter # importa o framework que ira permitir a transformação do dicionario em tupla\n",
    "\n",
    "top_palavras = sorted(frequencia_palavras.items() , key = itemgetter(1) , reverse=True) # transforma o dicionario em uma tupla para podermos organizar da maior frequencia para a menor frequencia de citação \n",
    "\n",
    "for palavras, qtd in top_palavras: # desempacota a tupla\n",
    "    print(f'{palavras};{qtd}') #mostra a palavra e quandidade de vezes que apareceu "
   ]
  },
  {
   "cell_type": "code",
   "execution_count": 14,
   "id": "dc9756d8",
   "metadata": {},
   "outputs": [
    {
     "name": "stdout",
     "output_type": "stream",
     "text": [
      "digite uma palavraeu\n",
      "eu aparece 19\n",
      "digite uma palavravocê\n",
      "você aparece 7\n",
      "digite uma palavra\n"
     ]
    }
   ],
   "source": [
    "# codigo codigo de testes para verificar termos especificos\n",
    "while True: # cria um loop constante\n",
    "    p = input('Qual item procura?') #armazena o item escolhido na variavel p\n",
    "    if p !='': # verifica se o item procurado é um item vazio, se for pula para o else e enserra o codigo\n",
    "        print(f'{p} aparece {frequencia_palavras.get(p,0)}') # Mostra o numero de vezes que o item aparece se o item não aparece \n",
    "    else: \n",
    "        break #encerra o codigo\n",
    "        \n"
   ]
  }
 ],
 "metadata": {
  "kernelspec": {
   "display_name": "Python 3",
   "language": "python",
   "name": "python3"
  },
  "language_info": {
   "codemirror_mode": {
    "name": "ipython",
    "version": 3
   },
   "file_extension": ".py",
   "mimetype": "text/x-python",
   "name": "python",
   "nbconvert_exporter": "python",
   "pygments_lexer": "ipython3",
   "version": "3.8.8"
  }
 },
 "nbformat": 4,
 "nbformat_minor": 5
}
